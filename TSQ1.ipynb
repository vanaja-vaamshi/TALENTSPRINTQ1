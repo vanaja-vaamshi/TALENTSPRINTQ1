{
  "nbformat": 4,
  "nbformat_minor": 0,
  "metadata": {
    "colab": {
      "name": "TSQ1",
      "provenance": [],
      "authorship_tag": "ABX9TyMw2/r/IjmjRNsO/aHMEQSo",
      "include_colab_link": true
    },
    "kernelspec": {
      "name": "python3",
      "display_name": "Python 3"
    },
    "language_info": {
      "name": "python"
    }
  },
  "cells": [
    {
      "cell_type": "markdown",
      "metadata": {
        "id": "view-in-github",
        "colab_type": "text"
      },
      "source": [
        "<a href=\"https://colab.research.google.com/github/vanaja-vaamshi/TALENTSPRINTQ1/blob/main/TSQ1.ipynb\" target=\"_parent\"><img src=\"https://colab.research.google.com/assets/colab-badge.svg\" alt=\"Open In Colab\"/></a>"
      ]
    },
    {
      "cell_type": "code",
      "metadata": {
        "colab": {
          "base_uri": "https://localhost:8080/"
        },
        "id": "dWxXkJKfj8k2",
        "outputId": "08ad9370-d819-42dc-a923-8b0c0b456c12"
      },
      "source": [
        "\n",
        "def checkReversible (n):\n",
        "     \n",
        "    rev = 0\n",
        "   \n",
        "    \n",
        "    flag = n\n",
        "     \n",
        "    while (flag != 0):\n",
        "        rem = flag % 10\n",
        "        rev *= 10\n",
        "        rev += rem\n",
        "        flag //= 10\n",
        "     \n",
        "    \n",
        "    sum = rev + n\n",
        "   \n",
        "    \n",
        "    while (sum and ((rem % 2) != 0)):\n",
        "        rem = sum % 10\n",
        "        sum //= 10\n",
        "     \n",
        "    if (sum == 0):\n",
        "        print(\"Reversible Number\")\n",
        "    else:\n",
        "        print(\"Non-Reversible Number\")\n",
        " \n",
        "\n",
        "\n",
        " \n",
        "checkReversible(36)\n",
        "\n"
      ],
      "execution_count": 2,
      "outputs": [
        {
          "output_type": "stream",
          "name": "stdout",
          "text": [
            "Reversible Number\n"
          ]
        }
      ]
    }
  ]
}